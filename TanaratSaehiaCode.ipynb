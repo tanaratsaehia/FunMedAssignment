{
 "cells": [
  {
   "cell_type": "markdown",
   "id": "c0ff89cc",
   "metadata": {},
   "source": [
    "# Before extract feature"
   ]
  },
  {
   "cell_type": "markdown",
   "id": "2d3562d6",
   "metadata": {},
   "source": [
    "## import library"
   ]
  },
  {
   "cell_type": "code",
   "execution_count": 2,
   "id": "d204e4a3",
   "metadata": {},
   "outputs": [
    {
     "name": "stdout",
     "output_type": "stream",
     "text": [
      "Attempting to load data from uploaded file: ignore_dir/hepatitis+c+virus+hcv+for+egyptian+patients/HCV-Egy-Data.csv\n",
      "Dataset loaded successfully.\n",
      "\n",
      "Using target column: 'Baselinehistological staging'\n",
      "Target Class Distribution:\n",
      "Baselinehistological staging\n",
      "1    0.242599\n",
      "2    0.239711\n",
      "3    0.256318\n",
      "4    0.261372\n",
      "Name: proportion, dtype: float64\n"
     ]
    }
   ],
   "source": [
    "import pandas as pd\n",
    "from sklearn.model_selection import train_test_split\n",
    "from sklearn.preprocessing import StandardScaler, OneHotEncoder, RobustScaler\n",
    "from sklearn.compose import ColumnTransformer\n",
    "from sklearn.pipeline import Pipeline\n",
    "from sklearn.ensemble import RandomForestClassifier, BaggingClassifier, ExtraTreesClassifier\n",
    "from sklearn.neural_network import MLPClassifier\n",
    "from sklearn.metrics import classification_report\n",
    "import numpy as np\n",
    "from lightgbm import LGBMClassifier\n",
    "\n",
    "file_name = \"ignore_dir/hepatitis+c+virus+hcv+for+egyptian+patients/HCV-Egy-Data.csv\" \n",
    "print(f\"Attempting to load data from uploaded file: {file_name}\")\n",
    "data = pd.read_csv(file_name)\n",
    "print(\"Dataset loaded successfully.\")\n",
    "target_column = 'Baselinehistological staging'\n",
    "print(f\"\\nUsing target column: '{target_column}'\")\n",
    "print(\"Target Class Distribution:\")\n",
    "print(data[target_column].value_counts(normalize=True).sort_index())"
   ]
  },
  {
   "cell_type": "markdown",
   "id": "2e5d1005",
   "metadata": {},
   "source": [
    "## Split train/test and set type columns"
   ]
  },
  {
   "cell_type": "code",
   "execution_count": 3,
   "id": "4240c78e",
   "metadata": {},
   "outputs": [
    {
     "name": "stdout",
     "output_type": "stream",
     "text": [
      "\n",
      "Using 19 numerical features.\n",
      "Using 9 categorical features.\n",
      "\n",
      "Splitting data into training and testing sets (80/20)...\n",
      "Training features shape: (1108, 28)\n",
      "Testing features shape: (277, 28)\n"
     ]
    }
   ],
   "source": [
    "y = data[target_column]\n",
    "X = data.drop(target_column, axis=1)\n",
    "categorical_features = [\n",
    "    'Gender', 'Fever', 'Nausea/Vomting', 'Headache ', 'Diarrhea ', \n",
    "    'Fatigue & generalized bone ache ', 'Jaundice ', 'Epigastric pain ', 'Baseline histological Grading'\n",
    "]\n",
    "numerical_features = [\n",
    "    'Age ', 'BMI', 'WBC', 'RBC', 'HGB', 'Plat', 'AST 1', 'ALT 1', 'ALT4', \n",
    "    'ALT 12', 'ALT 24', 'ALT 36', 'ALT 48', 'ALT after 24 w', \n",
    "    'RNA Base', 'RNA 4', 'RNA 12', 'RNA EOT', 'RNA EF'\n",
    "]\n",
    "actual_columns = set(X.columns)\n",
    "numerical_features = [col for col in numerical_features if col in actual_columns]\n",
    "categorical_features = [col for col in categorical_features if col in actual_columns]\n",
    "\n",
    "print(f\"\\nUsing {len(numerical_features)} numerical features.\")\n",
    "print(f\"Using {len(categorical_features)} categorical features.\")\n",
    "\n",
    "print(\"\\nSplitting data into training and testing sets (80/20)...\")\n",
    "X_train, X_test, y_train, y_test = train_test_split(\n",
    "    X, y, test_size=0.2, random_state=42, stratify=y\n",
    ")\n",
    "print(f\"Training features shape: {X_train.shape}\")\n",
    "print(f\"Testing features shape: {X_test.shape}\")"
   ]
  },
  {
   "cell_type": "markdown",
   "id": "a6d35a98",
   "metadata": {},
   "source": [
    "## Pipeline model and data transform "
   ]
  },
  {
   "cell_type": "code",
   "execution_count": 4,
   "id": "4edbe47c",
   "metadata": {},
   "outputs": [],
   "source": [
    "numeric_transformer = Pipeline(steps=[\n",
    "    ('scaler', StandardScaler())\n",
    "])\n",
    "\n",
    "categorical_transformer = Pipeline(steps=[\n",
    "    ('onehot', OneHotEncoder(handle_unknown='ignore', sparse_output=False))\n",
    "])\n",
    "preprocessor = ColumnTransformer(\n",
    "    transformers=[\n",
    "        ('num', numeric_transformer, numerical_features),\n",
    "        ('cat', categorical_transformer, categorical_features)\n",
    "    ],\n",
    "    remainder='drop'\n",
    ")\n",
    "\n",
    "rf_pipeline = Pipeline(steps=[\n",
    "    ('preprocessor', preprocessor),\n",
    "    ('classifier', RandomForestClassifier(\n",
    "        random_state=42, \n",
    "        n_estimators=100,\n",
    "        class_weight='balanced'\n",
    "    ))\n",
    "])\n",
    "# rf_pipeline = Pipeline(steps=[\n",
    "#     ('preprocessor', preprocessor),\n",
    "#     ('classifier', LGBMClassifier(\n",
    "#         random_state=42,\n",
    "#         class_weight='balanced'\n",
    "#     ))\n",
    "# ])"
   ]
  },
  {
   "cell_type": "markdown",
   "id": "ea10a9ed",
   "metadata": {},
   "source": [
    "## fit and evaluation"
   ]
  },
  {
   "cell_type": "code",
   "execution_count": 5,
   "id": "55be20f2",
   "metadata": {},
   "outputs": [
    {
     "name": "stdout",
     "output_type": "stream",
     "text": [
      "Training the model...\n",
      "Model training complete.\n",
      "\n",
      "Evaluating model on the test set...\n",
      "\n",
      "--- Classification Report ---\n",
      "              precision    recall  f1-score   support\n",
      "\n",
      "Stage 1 (F1)       0.25      0.27      0.26        67\n",
      "Stage 2 (F2)       0.24      0.22      0.23        67\n",
      "Stage 3 (F3)       0.28      0.30      0.29        71\n",
      "Stage 4 (F4)       0.36      0.35      0.35        72\n",
      "\n",
      "    accuracy                           0.29       277\n",
      "   macro avg       0.28      0.28      0.28       277\n",
      "weighted avg       0.29      0.29      0.29       277\n",
      "\n"
     ]
    }
   ],
   "source": [
    "print(\"Training the model...\")\n",
    "rf_pipeline.fit(X_train, y_train)\n",
    "print(\"Model training complete.\")\n",
    "print(\"\\nEvaluating model on the test set...\")\n",
    "y_pred = rf_pipeline.predict(X_test)\n",
    "\n",
    "print(\"\\n--- Classification Report ---\")\n",
    "target_names = ['Stage 1 (F1)', 'Stage 2 (F2)', 'Stage 3 (F3)', 'Stage 4 (F4)']\n",
    "unique_labels = np.unique(np.concatenate((y_test, y_pred)))\n",
    "filtered_target_names = [target_names[i-1] for i in sorted(unique_labels)]\n",
    "\n",
    "report = classification_report(\n",
    "    y_test, \n",
    "    y_pred, \n",
    "    target_names=filtered_target_names, \n",
    "    labels=sorted(unique_labels)\n",
    ")\n",
    "print(report)"
   ]
  },
  {
   "cell_type": "markdown",
   "id": "0bb68aef",
   "metadata": {},
   "source": [
    "# Apply feature extraction followed by paper \n",
    "on table 1 https://ieeexplore.ieee.org/document/8289800"
   ]
  },
  {
   "cell_type": "code",
   "execution_count": 6,
   "id": "99550322",
   "metadata": {},
   "outputs": [],
   "source": [
    "import pandas as pd\n",
    "import numpy as np\n",
    "import os"
   ]
  },
  {
   "cell_type": "markdown",
   "id": "b54b4582",
   "metadata": {},
   "source": [
    "## load and check distibution dataset"
   ]
  },
  {
   "cell_type": "code",
   "execution_count": 7,
   "id": "cf7f1c1e",
   "metadata": {},
   "outputs": [
    {
     "name": "stdout",
     "output_type": "stream",
     "text": [
      "Using target column: 'Baselinehistological staging'\n",
      "Target Class Distribution:\n",
      "Baselinehistological staging\n",
      "1    0.242599\n",
      "2    0.239711\n",
      "3    0.256318\n",
      "4    0.261372\n",
      "Name: proportion, dtype: float64\n"
     ]
    }
   ],
   "source": [
    "file_name = \"ignore_dir/hepatitis+c+virus+hcv+for+egyptian+patients/HCV-Egy-Data.csv\" \n",
    "data = pd.read_csv(file_name)\n",
    "target_column = 'Baselinehistological staging'\n",
    "print(f\"Using target column: '{target_column}'\")\n",
    "print(\"Target Class Distribution:\")\n",
    "print(data[target_column].value_counts(normalize=True).sort_index())"
   ]
  },
  {
   "cell_type": "markdown",
   "id": "4f9ea25b",
   "metadata": {},
   "source": [
    "## Extract data"
   ]
  },
  {
   "cell_type": "code",
   "execution_count": 8,
   "id": "fbce6d96",
   "metadata": {},
   "outputs": [
    {
     "data": {
      "text/plain": [
       "Index(['Age', 'Gender', 'BMI', 'Fever', 'Nausea/Vomting', 'Headache',\n",
       "       'Diarrhea', 'Fatigue & generalized bone ache', 'Jaundice',\n",
       "       'Epigastric pain', 'WBC', 'RBC', 'HGB', 'Plat', 'AST 1', 'ALT 1',\n",
       "       'ALT 4', 'ALT 12', 'ALT 24', 'ALT 36', 'ALT 48', 'ALT after 24 w',\n",
       "       'RNA Base', 'RNA 4', 'RNA 12', 'RNA EOT', 'RNA EF',\n",
       "       'Baseline histological Grading', 'Baselinehistological staging'],\n",
       "      dtype='object')"
      ]
     },
     "execution_count": 8,
     "metadata": {},
     "output_type": "execute_result"
    }
   ],
   "source": [
    "data.rename(columns={\n",
    "        'Age ': 'Age', \n",
    "        'Headache ': 'Headache', \n",
    "        'Diarrhea ': 'Diarrhea', \n",
    "        'Fatigue & generalized bone ache ': 'Fatigue & generalized bone ache',\n",
    "        'Jaundice ': 'Jaundice',\n",
    "        'Epigastric pain ': 'Epigastric pain',\n",
    "        'ALT4': 'ALT 4'\n",
    "    }, inplace=True)\n",
    "data.columns"
   ]
  },
  {
   "cell_type": "markdown",
   "id": "e1f8a096",
   "metadata": {},
   "source": [
    "### Age"
   ]
  },
  {
   "cell_type": "code",
   "execution_count": 9,
   "id": "c8b5d93d",
   "metadata": {},
   "outputs": [
    {
     "data": {
      "text/html": [
       "<div>\n",
       "<style scoped>\n",
       "    .dataframe tbody tr th:only-of-type {\n",
       "        vertical-align: middle;\n",
       "    }\n",
       "\n",
       "    .dataframe tbody tr th {\n",
       "        vertical-align: top;\n",
       "    }\n",
       "\n",
       "    .dataframe thead th {\n",
       "        text-align: right;\n",
       "    }\n",
       "</style>\n",
       "<table border=\"1\" class=\"dataframe\">\n",
       "  <thead>\n",
       "    <tr style=\"text-align: right;\">\n",
       "      <th></th>\n",
       "      <th>Age</th>\n",
       "      <th>Age_Category</th>\n",
       "    </tr>\n",
       "  </thead>\n",
       "  <tbody>\n",
       "    <tr>\n",
       "      <th>283</th>\n",
       "      <td>42</td>\n",
       "      <td>2</td>\n",
       "    </tr>\n",
       "    <tr>\n",
       "      <th>1164</th>\n",
       "      <td>55</td>\n",
       "      <td>5</td>\n",
       "    </tr>\n",
       "    <tr>\n",
       "      <th>1353</th>\n",
       "      <td>34</td>\n",
       "      <td>1</td>\n",
       "    </tr>\n",
       "  </tbody>\n",
       "</table>\n",
       "</div>"
      ],
      "text/plain": [
       "      Age  Age_Category\n",
       "283    42             2\n",
       "1164   55             5\n",
       "1353   34             1"
      ]
     },
     "execution_count": 9,
     "metadata": {},
     "output_type": "execute_result"
    }
   ],
   "source": [
    "conditions = [\n",
    "        (data['Age'] <= 32),\n",
    "        (data['Age'] > 32) & (data['Age'] <= 37),\n",
    "        (data['Age'] > 37) & (data['Age'] <= 42),\n",
    "        (data['Age'] > 42) & (data['Age'] <= 47),\n",
    "        (data['Age'] > 47) & (data['Age'] <= 52),\n",
    "        (data['Age'] > 52) & (data['Age'] <= 57),\n",
    "        (data['Age'] > 57) & (data['Age'] <= 62),\n",
    "    ]\n",
    "choices = [0, 1, 2, 3, 4, 5, 6]\n",
    "data['Age_Category'] = np.select(conditions, choices, default=-1)\n",
    "data[['Age', 'Age_Category']].sample(3)"
   ]
  },
  {
   "cell_type": "markdown",
   "id": "d8a0a330",
   "metadata": {},
   "source": [
    "### BMI"
   ]
  },
  {
   "cell_type": "code",
   "execution_count": 10,
   "id": "1789177c",
   "metadata": {},
   "outputs": [
    {
     "data": {
      "text/html": [
       "<div>\n",
       "<style scoped>\n",
       "    .dataframe tbody tr th:only-of-type {\n",
       "        vertical-align: middle;\n",
       "    }\n",
       "\n",
       "    .dataframe tbody tr th {\n",
       "        vertical-align: top;\n",
       "    }\n",
       "\n",
       "    .dataframe thead th {\n",
       "        text-align: right;\n",
       "    }\n",
       "</style>\n",
       "<table border=\"1\" class=\"dataframe\">\n",
       "  <thead>\n",
       "    <tr style=\"text-align: right;\">\n",
       "      <th></th>\n",
       "      <th>BMI</th>\n",
       "      <th>BMI_Category</th>\n",
       "    </tr>\n",
       "  </thead>\n",
       "  <tbody>\n",
       "    <tr>\n",
       "      <th>8</th>\n",
       "      <td>23</td>\n",
       "      <td>1</td>\n",
       "    </tr>\n",
       "    <tr>\n",
       "      <th>1058</th>\n",
       "      <td>22</td>\n",
       "      <td>1</td>\n",
       "    </tr>\n",
       "    <tr>\n",
       "      <th>572</th>\n",
       "      <td>29</td>\n",
       "      <td>2</td>\n",
       "    </tr>\n",
       "  </tbody>\n",
       "</table>\n",
       "</div>"
      ],
      "text/plain": [
       "      BMI  BMI_Category\n",
       "8      23             1\n",
       "1058   22             1\n",
       "572    29             2"
      ]
     },
     "execution_count": 10,
     "metadata": {},
     "output_type": "execute_result"
    }
   ],
   "source": [
    "conditions = [\n",
    "        (data['BMI'] < 18.5),\n",
    "        (data['BMI'] >= 18.5) & (data['BMI'] < 25),\n",
    "        (data['BMI'] >= 25) & (data['BMI'] < 30),\n",
    "        (data['BMI'] >= 30) & (data['BMI'] < 35),\n",
    "        (data['BMI'] >= 35) & (data['BMI'] < 40),\n",
    "    ]\n",
    "choices = [0, 1, 2, 3, 4]\n",
    "data['BMI_Category'] = np.select(conditions, choices, default=-1)\n",
    "data[['BMI', 'BMI_Category']].sample(3)"
   ]
  },
  {
   "cell_type": "markdown",
   "id": "9ebb242a",
   "metadata": {},
   "source": [
    "### WBC (White blood cell)"
   ]
  },
  {
   "cell_type": "code",
   "execution_count": 11,
   "id": "31e210c3",
   "metadata": {},
   "outputs": [
    {
     "data": {
      "text/html": [
       "<div>\n",
       "<style scoped>\n",
       "    .dataframe tbody tr th:only-of-type {\n",
       "        vertical-align: middle;\n",
       "    }\n",
       "\n",
       "    .dataframe tbody tr th {\n",
       "        vertical-align: top;\n",
       "    }\n",
       "\n",
       "    .dataframe thead th {\n",
       "        text-align: right;\n",
       "    }\n",
       "</style>\n",
       "<table border=\"1\" class=\"dataframe\">\n",
       "  <thead>\n",
       "    <tr style=\"text-align: right;\">\n",
       "      <th></th>\n",
       "      <th>WBC</th>\n",
       "      <th>WBC_Category</th>\n",
       "    </tr>\n",
       "  </thead>\n",
       "  <tbody>\n",
       "    <tr>\n",
       "      <th>1322</th>\n",
       "      <td>3007</td>\n",
       "      <td>0</td>\n",
       "    </tr>\n",
       "    <tr>\n",
       "      <th>185</th>\n",
       "      <td>5859</td>\n",
       "      <td>1</td>\n",
       "    </tr>\n",
       "    <tr>\n",
       "      <th>883</th>\n",
       "      <td>4818</td>\n",
       "      <td>1</td>\n",
       "    </tr>\n",
       "  </tbody>\n",
       "</table>\n",
       "</div>"
      ],
      "text/plain": [
       "       WBC  WBC_Category\n",
       "1322  3007             0\n",
       "185   5859             1\n",
       "883   4818             1"
      ]
     },
     "execution_count": 11,
     "metadata": {},
     "output_type": "execute_result"
    }
   ],
   "source": [
    "conditions = [\n",
    "        (data['WBC'] < 4000),\n",
    "        (data['WBC'] >= 4000) & (data['WBC'] < 11000),\n",
    "        (data['WBC'] >= 11000),\n",
    "    ]\n",
    "choices = [0, 1, 2]\n",
    "data['WBC_Category'] = np.select(conditions, choices, default=-1)\n",
    "data[['WBC', 'WBC_Category']].sample(3)"
   ]
  },
  {
   "cell_type": "markdown",
   "id": "453be86e",
   "metadata": {},
   "source": [
    "### RBC (Red blood cell)"
   ]
  },
  {
   "cell_type": "code",
   "execution_count": 12,
   "id": "650fdd56",
   "metadata": {},
   "outputs": [
    {
     "data": {
      "text/html": [
       "<div>\n",
       "<style scoped>\n",
       "    .dataframe tbody tr th:only-of-type {\n",
       "        vertical-align: middle;\n",
       "    }\n",
       "\n",
       "    .dataframe tbody tr th {\n",
       "        vertical-align: top;\n",
       "    }\n",
       "\n",
       "    .dataframe thead th {\n",
       "        text-align: right;\n",
       "    }\n",
       "</style>\n",
       "<table border=\"1\" class=\"dataframe\">\n",
       "  <thead>\n",
       "    <tr style=\"text-align: right;\">\n",
       "      <th></th>\n",
       "      <th>RBC</th>\n",
       "      <th>RBC_Category</th>\n",
       "    </tr>\n",
       "  </thead>\n",
       "  <tbody>\n",
       "    <tr>\n",
       "      <th>626</th>\n",
       "      <td>5011007.0</td>\n",
       "      <td>2</td>\n",
       "    </tr>\n",
       "    <tr>\n",
       "      <th>65</th>\n",
       "      <td>4731084.0</td>\n",
       "      <td>1</td>\n",
       "    </tr>\n",
       "    <tr>\n",
       "      <th>1376</th>\n",
       "      <td>4453055.0</td>\n",
       "      <td>1</td>\n",
       "    </tr>\n",
       "  </tbody>\n",
       "</table>\n",
       "</div>"
      ],
      "text/plain": [
       "            RBC  RBC_Category\n",
       "626   5011007.0             2\n",
       "65    4731084.0             1\n",
       "1376  4453055.0             1"
      ]
     },
     "execution_count": 12,
     "metadata": {},
     "output_type": "execute_result"
    }
   ],
   "source": [
    "conditions = [\n",
    "        (data['RBC'] < 3000000),\n",
    "        (data['RBC'] >= 3000000) & (data['RBC'] < 5000000),\n",
    "        (data['RBC'] >= 5000000),\n",
    "    ]\n",
    "choices = [0, 1, 2]\n",
    "data['RBC_Category'] = np.select(conditions, choices, default=-1)\n",
    "data[['RBC', 'RBC_Category']].sample(3)"
   ]
  },
  {
   "cell_type": "markdown",
   "id": "eca1fb0b",
   "metadata": {},
   "source": [
    "### HGB (Hemoglobin)"
   ]
  },
  {
   "cell_type": "code",
   "execution_count": 13,
   "id": "9fd6af65",
   "metadata": {},
   "outputs": [
    {
     "data": {
      "text/html": [
       "<div>\n",
       "<style scoped>\n",
       "    .dataframe tbody tr th:only-of-type {\n",
       "        vertical-align: middle;\n",
       "    }\n",
       "\n",
       "    .dataframe tbody tr th {\n",
       "        vertical-align: top;\n",
       "    }\n",
       "\n",
       "    .dataframe thead th {\n",
       "        text-align: right;\n",
       "    }\n",
       "</style>\n",
       "<table border=\"1\" class=\"dataframe\">\n",
       "  <thead>\n",
       "    <tr style=\"text-align: right;\">\n",
       "      <th></th>\n",
       "      <th>Gender</th>\n",
       "      <th>HGB</th>\n",
       "      <th>HGB_Category</th>\n",
       "    </tr>\n",
       "  </thead>\n",
       "  <tbody>\n",
       "    <tr>\n",
       "      <th>739</th>\n",
       "      <td>2</td>\n",
       "      <td>11</td>\n",
       "      <td>-1</td>\n",
       "    </tr>\n",
       "    <tr>\n",
       "      <th>393</th>\n",
       "      <td>2</td>\n",
       "      <td>14</td>\n",
       "      <td>-2</td>\n",
       "    </tr>\n",
       "    <tr>\n",
       "      <th>379</th>\n",
       "      <td>2</td>\n",
       "      <td>14</td>\n",
       "      <td>-2</td>\n",
       "    </tr>\n",
       "  </tbody>\n",
       "</table>\n",
       "</div>"
      ],
      "text/plain": [
       "     Gender  HGB  HGB_Category\n",
       "739       2   11            -1\n",
       "393       2   14            -2\n",
       "379       2   14            -2"
      ]
     },
     "execution_count": 13,
     "metadata": {},
     "output_type": "execute_result"
    }
   ],
   "source": [
    "conditions = [\n",
    "        (data['Gender'] == 1) & (data['HGB'] < 14),\n",
    "        (data['Gender'] == 1) & (data['HGB'] >= 14) & (data['HGB'] < 17.5),\n",
    "        (data['Gender'] == 1) & (data['HGB'] >= 17.5),\n",
    "        (data['Gender'] == 2) & (data['HGB'] < 12.3),\n",
    "        (data['Gender'] == 2) & (data['HGB'] >= 12.3) & (data['HGB'] < 15.3),\n",
    "        (data['Gender'] == 2) & (data['HGB'] >= 15.3),\n",
    "    ]\n",
    "choices = [1, 2, 3, -1, -2, -3]\n",
    "data['HGB_Category'] = np.select(conditions, choices, default=10)\n",
    "data[['Gender', 'HGB', 'HGB_Category']].sample(3)"
   ]
  },
  {
   "cell_type": "markdown",
   "id": "52177c46",
   "metadata": {},
   "source": [
    "### Plat (Platelet)"
   ]
  },
  {
   "cell_type": "code",
   "execution_count": 14,
   "id": "f5cf99cf",
   "metadata": {},
   "outputs": [
    {
     "data": {
      "text/html": [
       "<div>\n",
       "<style scoped>\n",
       "    .dataframe tbody tr th:only-of-type {\n",
       "        vertical-align: middle;\n",
       "    }\n",
       "\n",
       "    .dataframe tbody tr th {\n",
       "        vertical-align: top;\n",
       "    }\n",
       "\n",
       "    .dataframe thead th {\n",
       "        text-align: right;\n",
       "    }\n",
       "</style>\n",
       "<table border=\"1\" class=\"dataframe\">\n",
       "  <thead>\n",
       "    <tr style=\"text-align: right;\">\n",
       "      <th></th>\n",
       "      <th>Plat</th>\n",
       "      <th>Plat_Category</th>\n",
       "    </tr>\n",
       "  </thead>\n",
       "  <tbody>\n",
       "    <tr>\n",
       "      <th>987</th>\n",
       "      <td>199856.0</td>\n",
       "      <td>1</td>\n",
       "    </tr>\n",
       "    <tr>\n",
       "      <th>1236</th>\n",
       "      <td>97842.0</td>\n",
       "      <td>0</td>\n",
       "    </tr>\n",
       "    <tr>\n",
       "      <th>1325</th>\n",
       "      <td>178928.0</td>\n",
       "      <td>1</td>\n",
       "    </tr>\n",
       "  </tbody>\n",
       "</table>\n",
       "</div>"
      ],
      "text/plain": [
       "          Plat  Plat_Category\n",
       "987   199856.0              1\n",
       "1236   97842.0              0\n",
       "1325  178928.0              1"
      ]
     },
     "execution_count": 14,
     "metadata": {},
     "output_type": "execute_result"
    }
   ],
   "source": [
    "conditions = [\n",
    "        (data['Plat'] < 100000),\n",
    "        (data['Plat'] >= 100000) & (data['Plat'] < 255000),\n",
    "        (data['Plat'] >= 255000),\n",
    "    ]\n",
    "choices = [0, 1, 2]\n",
    "data['Plat_Category'] = np.select(conditions, choices, default=-1)\n",
    "data[['Plat', 'Plat_Category']].sample(3)"
   ]
  },
  {
   "cell_type": "markdown",
   "id": "d5979f3c",
   "metadata": {},
   "source": [
    "### AST(aspartate) 1 and ALT(alanine) 1, 4, 12, 24, 36, 48, after 24 w"
   ]
  },
  {
   "cell_type": "code",
   "execution_count": 15,
   "id": "8206b54c",
   "metadata": {},
   "outputs": [
    {
     "data": {
      "text/html": [
       "<div>\n",
       "<style scoped>\n",
       "    .dataframe tbody tr th:only-of-type {\n",
       "        vertical-align: middle;\n",
       "    }\n",
       "\n",
       "    .dataframe tbody tr th {\n",
       "        vertical-align: top;\n",
       "    }\n",
       "\n",
       "    .dataframe thead th {\n",
       "        text-align: right;\n",
       "    }\n",
       "</style>\n",
       "<table border=\"1\" class=\"dataframe\">\n",
       "  <thead>\n",
       "    <tr style=\"text-align: right;\">\n",
       "      <th></th>\n",
       "      <th>AST 1</th>\n",
       "      <th>AST 1_Category</th>\n",
       "    </tr>\n",
       "  </thead>\n",
       "  <tbody>\n",
       "    <tr>\n",
       "      <th>1106</th>\n",
       "      <td>86</td>\n",
       "      <td>2</td>\n",
       "    </tr>\n",
       "    <tr>\n",
       "      <th>274</th>\n",
       "      <td>100</td>\n",
       "      <td>2</td>\n",
       "    </tr>\n",
       "    <tr>\n",
       "      <th>1290</th>\n",
       "      <td>77</td>\n",
       "      <td>2</td>\n",
       "    </tr>\n",
       "  </tbody>\n",
       "</table>\n",
       "</div>"
      ],
      "text/plain": [
       "      AST 1  AST 1_Category\n",
       "1106     86               2\n",
       "274     100               2\n",
       "1290     77               2"
      ]
     },
     "execution_count": 15,
     "metadata": {},
     "output_type": "execute_result"
    }
   ],
   "source": [
    "conditions = [\n",
    "        (data['AST 1'] < 20),\n",
    "        (data['AST 1'] >= 20) & (data['AST 1'] < 40),\n",
    "        (data['AST 1'] >= 40),\n",
    "    ]\n",
    "choices = [0, 1, 2]\n",
    "data['AST 1_Category'] = np.select(conditions, choices, default=-1)\n",
    "data[['AST 1', 'AST 1_Category']].sample(3)"
   ]
  },
  {
   "cell_type": "code",
   "execution_count": 16,
   "id": "006b5fce",
   "metadata": {},
   "outputs": [
    {
     "data": {
      "text/html": [
       "<div>\n",
       "<style scoped>\n",
       "    .dataframe tbody tr th:only-of-type {\n",
       "        vertical-align: middle;\n",
       "    }\n",
       "\n",
       "    .dataframe tbody tr th {\n",
       "        vertical-align: top;\n",
       "    }\n",
       "\n",
       "    .dataframe thead th {\n",
       "        text-align: right;\n",
       "    }\n",
       "</style>\n",
       "<table border=\"1\" class=\"dataframe\">\n",
       "  <thead>\n",
       "    <tr style=\"text-align: right;\">\n",
       "      <th></th>\n",
       "      <th>ALT 1</th>\n",
       "      <th>ALT 1_Category</th>\n",
       "    </tr>\n",
       "  </thead>\n",
       "  <tbody>\n",
       "    <tr>\n",
       "      <th>248</th>\n",
       "      <td>77</td>\n",
       "      <td>2</td>\n",
       "    </tr>\n",
       "    <tr>\n",
       "      <th>501</th>\n",
       "      <td>39</td>\n",
       "      <td>1</td>\n",
       "    </tr>\n",
       "    <tr>\n",
       "      <th>300</th>\n",
       "      <td>81</td>\n",
       "      <td>2</td>\n",
       "    </tr>\n",
       "  </tbody>\n",
       "</table>\n",
       "</div>"
      ],
      "text/plain": [
       "     ALT 1  ALT 1_Category\n",
       "248     77               2\n",
       "501     39               1\n",
       "300     81               2"
      ]
     },
     "execution_count": 16,
     "metadata": {},
     "output_type": "execute_result"
    }
   ],
   "source": [
    "conditions = [\n",
    "        (data['ALT 1'] < 20),\n",
    "        (data['ALT 1'] >= 20) & (data['ALT 1'] < 40),\n",
    "        (data['ALT 1'] >= 40),\n",
    "    ]\n",
    "choices = [0, 1, 2]\n",
    "data['ALT 1_Category'] = np.select(conditions, choices, default=-1)\n",
    "data[['ALT 1', 'ALT 1_Category']].sample(3)"
   ]
  },
  {
   "cell_type": "code",
   "execution_count": 17,
   "id": "c61939cc",
   "metadata": {},
   "outputs": [
    {
     "data": {
      "text/html": [
       "<div>\n",
       "<style scoped>\n",
       "    .dataframe tbody tr th:only-of-type {\n",
       "        vertical-align: middle;\n",
       "    }\n",
       "\n",
       "    .dataframe tbody tr th {\n",
       "        vertical-align: top;\n",
       "    }\n",
       "\n",
       "    .dataframe thead th {\n",
       "        text-align: right;\n",
       "    }\n",
       "</style>\n",
       "<table border=\"1\" class=\"dataframe\">\n",
       "  <thead>\n",
       "    <tr style=\"text-align: right;\">\n",
       "      <th></th>\n",
       "      <th>ALT 4</th>\n",
       "      <th>ALT 4_Category</th>\n",
       "    </tr>\n",
       "  </thead>\n",
       "  <tbody>\n",
       "    <tr>\n",
       "      <th>221</th>\n",
       "      <td>119.0</td>\n",
       "      <td>2</td>\n",
       "    </tr>\n",
       "    <tr>\n",
       "      <th>580</th>\n",
       "      <td>51.0</td>\n",
       "      <td>2</td>\n",
       "    </tr>\n",
       "    <tr>\n",
       "      <th>722</th>\n",
       "      <td>107.0</td>\n",
       "      <td>2</td>\n",
       "    </tr>\n",
       "  </tbody>\n",
       "</table>\n",
       "</div>"
      ],
      "text/plain": [
       "     ALT 4  ALT 4_Category\n",
       "221  119.0               2\n",
       "580   51.0               2\n",
       "722  107.0               2"
      ]
     },
     "execution_count": 17,
     "metadata": {},
     "output_type": "execute_result"
    }
   ],
   "source": [
    "conditions = [\n",
    "        (data['ALT 4'] < 20),\n",
    "        (data['ALT 4'] >= 20) & (data['ALT 4'] < 40),\n",
    "        (data['ALT 4'] >= 40),\n",
    "    ]\n",
    "choices = [0, 1, 2]\n",
    "data['ALT 4_Category'] = np.select(conditions, choices, default=-1)\n",
    "data[['ALT 4', 'ALT 4_Category']].sample(3)"
   ]
  },
  {
   "cell_type": "code",
   "execution_count": 18,
   "id": "8058bf0d",
   "metadata": {},
   "outputs": [
    {
     "data": {
      "text/html": [
       "<div>\n",
       "<style scoped>\n",
       "    .dataframe tbody tr th:only-of-type {\n",
       "        vertical-align: middle;\n",
       "    }\n",
       "\n",
       "    .dataframe tbody tr th {\n",
       "        vertical-align: top;\n",
       "    }\n",
       "\n",
       "    .dataframe thead th {\n",
       "        text-align: right;\n",
       "    }\n",
       "</style>\n",
       "<table border=\"1\" class=\"dataframe\">\n",
       "  <thead>\n",
       "    <tr style=\"text-align: right;\">\n",
       "      <th></th>\n",
       "      <th>ALT 12</th>\n",
       "      <th>ALT 12_Category</th>\n",
       "    </tr>\n",
       "  </thead>\n",
       "  <tbody>\n",
       "    <tr>\n",
       "      <th>929</th>\n",
       "      <td>113</td>\n",
       "      <td>2</td>\n",
       "    </tr>\n",
       "    <tr>\n",
       "      <th>841</th>\n",
       "      <td>118</td>\n",
       "      <td>2</td>\n",
       "    </tr>\n",
       "    <tr>\n",
       "      <th>858</th>\n",
       "      <td>63</td>\n",
       "      <td>2</td>\n",
       "    </tr>\n",
       "  </tbody>\n",
       "</table>\n",
       "</div>"
      ],
      "text/plain": [
       "     ALT 12  ALT 12_Category\n",
       "929     113                2\n",
       "841     118                2\n",
       "858      63                2"
      ]
     },
     "execution_count": 18,
     "metadata": {},
     "output_type": "execute_result"
    }
   ],
   "source": [
    "conditions = [\n",
    "        (data['ALT 12'] < 20),\n",
    "        (data['ALT 12'] >= 20) & (data['ALT 12'] < 40),\n",
    "        (data['ALT 12'] >= 40),\n",
    "    ]\n",
    "choices = [0, 1, 2]\n",
    "data['ALT 12_Category'] = np.select(conditions, choices, default=-1)\n",
    "data[['ALT 12', 'ALT 12_Category']].sample(3)"
   ]
  },
  {
   "cell_type": "code",
   "execution_count": 19,
   "id": "00fa8a3e",
   "metadata": {},
   "outputs": [
    {
     "data": {
      "text/html": [
       "<div>\n",
       "<style scoped>\n",
       "    .dataframe tbody tr th:only-of-type {\n",
       "        vertical-align: middle;\n",
       "    }\n",
       "\n",
       "    .dataframe tbody tr th {\n",
       "        vertical-align: top;\n",
       "    }\n",
       "\n",
       "    .dataframe thead th {\n",
       "        text-align: right;\n",
       "    }\n",
       "</style>\n",
       "<table border=\"1\" class=\"dataframe\">\n",
       "  <thead>\n",
       "    <tr style=\"text-align: right;\">\n",
       "      <th></th>\n",
       "      <th>ALT 24</th>\n",
       "      <th>ALT 24_Category</th>\n",
       "    </tr>\n",
       "  </thead>\n",
       "  <tbody>\n",
       "    <tr>\n",
       "      <th>569</th>\n",
       "      <td>84</td>\n",
       "      <td>2</td>\n",
       "    </tr>\n",
       "    <tr>\n",
       "      <th>223</th>\n",
       "      <td>51</td>\n",
       "      <td>2</td>\n",
       "    </tr>\n",
       "    <tr>\n",
       "      <th>1274</th>\n",
       "      <td>50</td>\n",
       "      <td>2</td>\n",
       "    </tr>\n",
       "  </tbody>\n",
       "</table>\n",
       "</div>"
      ],
      "text/plain": [
       "      ALT 24  ALT 24_Category\n",
       "569       84                2\n",
       "223       51                2\n",
       "1274      50                2"
      ]
     },
     "execution_count": 19,
     "metadata": {},
     "output_type": "execute_result"
    }
   ],
   "source": [
    "conditions = [\n",
    "        (data['ALT 24'] < 20),\n",
    "        (data['ALT 24'] >= 20) & (data['ALT 24'] < 40),\n",
    "        (data['ALT 24'] >= 40),\n",
    "    ]\n",
    "choices = [0, 1, 2]\n",
    "data['ALT 24_Category'] = np.select(conditions, choices, default=-1)\n",
    "data[['ALT 24', 'ALT 24_Category']].sample(3)"
   ]
  },
  {
   "cell_type": "code",
   "execution_count": 20,
   "id": "811c09cc",
   "metadata": {},
   "outputs": [
    {
     "data": {
      "text/html": [
       "<div>\n",
       "<style scoped>\n",
       "    .dataframe tbody tr th:only-of-type {\n",
       "        vertical-align: middle;\n",
       "    }\n",
       "\n",
       "    .dataframe tbody tr th {\n",
       "        vertical-align: top;\n",
       "    }\n",
       "\n",
       "    .dataframe thead th {\n",
       "        text-align: right;\n",
       "    }\n",
       "</style>\n",
       "<table border=\"1\" class=\"dataframe\">\n",
       "  <thead>\n",
       "    <tr style=\"text-align: right;\">\n",
       "      <th></th>\n",
       "      <th>ALT 36</th>\n",
       "      <th>ALT 36_Category</th>\n",
       "    </tr>\n",
       "  </thead>\n",
       "  <tbody>\n",
       "    <tr>\n",
       "      <th>128</th>\n",
       "      <td>73</td>\n",
       "      <td>2</td>\n",
       "    </tr>\n",
       "    <tr>\n",
       "      <th>329</th>\n",
       "      <td>49</td>\n",
       "      <td>2</td>\n",
       "    </tr>\n",
       "    <tr>\n",
       "      <th>1285</th>\n",
       "      <td>64</td>\n",
       "      <td>2</td>\n",
       "    </tr>\n",
       "  </tbody>\n",
       "</table>\n",
       "</div>"
      ],
      "text/plain": [
       "      ALT 36  ALT 36_Category\n",
       "128       73                2\n",
       "329       49                2\n",
       "1285      64                2"
      ]
     },
     "execution_count": 20,
     "metadata": {},
     "output_type": "execute_result"
    }
   ],
   "source": [
    "conditions = [\n",
    "        (data['ALT 36'] < 20),\n",
    "        (data['ALT 36'] >= 20) & (data['ALT 36'] < 40),\n",
    "        (data['ALT 36'] >= 40),\n",
    "    ]\n",
    "choices = [0, 1, 2]\n",
    "data['ALT 36_Category'] = np.select(conditions, choices, default=-1)\n",
    "data[['ALT 36', 'ALT 36_Category']].sample(3)"
   ]
  },
  {
   "cell_type": "code",
   "execution_count": 21,
   "id": "5138fc95",
   "metadata": {},
   "outputs": [
    {
     "data": {
      "text/html": [
       "<div>\n",
       "<style scoped>\n",
       "    .dataframe tbody tr th:only-of-type {\n",
       "        vertical-align: middle;\n",
       "    }\n",
       "\n",
       "    .dataframe tbody tr th {\n",
       "        vertical-align: top;\n",
       "    }\n",
       "\n",
       "    .dataframe thead th {\n",
       "        text-align: right;\n",
       "    }\n",
       "</style>\n",
       "<table border=\"1\" class=\"dataframe\">\n",
       "  <thead>\n",
       "    <tr style=\"text-align: right;\">\n",
       "      <th></th>\n",
       "      <th>ALT 48</th>\n",
       "      <th>ALT 48_Category</th>\n",
       "    </tr>\n",
       "  </thead>\n",
       "  <tbody>\n",
       "    <tr>\n",
       "      <th>525</th>\n",
       "      <td>98</td>\n",
       "      <td>2</td>\n",
       "    </tr>\n",
       "    <tr>\n",
       "      <th>1333</th>\n",
       "      <td>50</td>\n",
       "      <td>2</td>\n",
       "    </tr>\n",
       "    <tr>\n",
       "      <th>1106</th>\n",
       "      <td>89</td>\n",
       "      <td>2</td>\n",
       "    </tr>\n",
       "  </tbody>\n",
       "</table>\n",
       "</div>"
      ],
      "text/plain": [
       "      ALT 48  ALT 48_Category\n",
       "525       98                2\n",
       "1333      50                2\n",
       "1106      89                2"
      ]
     },
     "execution_count": 21,
     "metadata": {},
     "output_type": "execute_result"
    }
   ],
   "source": [
    "conditions = [\n",
    "        (data['ALT 48'] < 20),\n",
    "        (data['ALT 48'] >= 20) & (data['ALT 48'] < 40),\n",
    "        (data['ALT 48'] >= 40),\n",
    "    ]\n",
    "choices = [0, 1, 2]\n",
    "data['ALT 48_Category'] = np.select(conditions, choices, default=-1)\n",
    "data[['ALT 48', 'ALT 48_Category']].sample(3)"
   ]
  },
  {
   "cell_type": "code",
   "execution_count": 22,
   "id": "9d7bcec2",
   "metadata": {},
   "outputs": [
    {
     "data": {
      "text/html": [
       "<div>\n",
       "<style scoped>\n",
       "    .dataframe tbody tr th:only-of-type {\n",
       "        vertical-align: middle;\n",
       "    }\n",
       "\n",
       "    .dataframe tbody tr th {\n",
       "        vertical-align: top;\n",
       "    }\n",
       "\n",
       "    .dataframe thead th {\n",
       "        text-align: right;\n",
       "    }\n",
       "</style>\n",
       "<table border=\"1\" class=\"dataframe\">\n",
       "  <thead>\n",
       "    <tr style=\"text-align: right;\">\n",
       "      <th></th>\n",
       "      <th>ALT after 24 w</th>\n",
       "      <th>ALT after 24 w_Category</th>\n",
       "    </tr>\n",
       "  </thead>\n",
       "  <tbody>\n",
       "    <tr>\n",
       "      <th>233</th>\n",
       "      <td>25</td>\n",
       "      <td>1</td>\n",
       "    </tr>\n",
       "    <tr>\n",
       "      <th>1062</th>\n",
       "      <td>27</td>\n",
       "      <td>1</td>\n",
       "    </tr>\n",
       "    <tr>\n",
       "      <th>935</th>\n",
       "      <td>24</td>\n",
       "      <td>1</td>\n",
       "    </tr>\n",
       "  </tbody>\n",
       "</table>\n",
       "</div>"
      ],
      "text/plain": [
       "      ALT after 24 w  ALT after 24 w_Category\n",
       "233               25                        1\n",
       "1062              27                        1\n",
       "935               24                        1"
      ]
     },
     "execution_count": 22,
     "metadata": {},
     "output_type": "execute_result"
    }
   ],
   "source": [
    "conditions = [\n",
    "        (data['ALT after 24 w'] < 20),\n",
    "        (data['ALT after 24 w'] >= 20) & (data['ALT after 24 w'] < 40),\n",
    "        (data['ALT after 24 w'] >= 40),\n",
    "    ]\n",
    "choices = [0, 1, 2]\n",
    "data['ALT after 24 w_Category'] = np.select(conditions, choices, default=-1)\n",
    "data[['ALT after 24 w', 'ALT after 24 w_Category']].sample(3)"
   ]
  },
  {
   "cell_type": "markdown",
   "id": "34c58984",
   "metadata": {},
   "source": [
    "### RNA Base, 4, 12, EOT, EF"
   ]
  },
  {
   "cell_type": "code",
   "execution_count": 23,
   "id": "35d65fb6",
   "metadata": {},
   "outputs": [
    {
     "data": {
      "text/plain": [
       "Index(['Age', 'Gender', 'BMI', 'Fever', 'Nausea/Vomting', 'Headache',\n",
       "       'Diarrhea', 'Fatigue & generalized bone ache', 'Jaundice',\n",
       "       'Epigastric pain', 'WBC', 'RBC', 'HGB', 'Plat', 'AST 1', 'ALT 1',\n",
       "       'ALT 4', 'ALT 12', 'ALT 24', 'ALT 36', 'ALT 48', 'ALT after 24 w',\n",
       "       'RNA Base', 'RNA 4', 'RNA 12', 'RNA EOT', 'RNA EF',\n",
       "       'Baseline histological Grading', 'Baselinehistological staging',\n",
       "       'Age_Category', 'BMI_Category', 'WBC_Category', 'RBC_Category',\n",
       "       'HGB_Category', 'Plat_Category', 'AST 1_Category', 'ALT 1_Category',\n",
       "       'ALT 4_Category', 'ALT 12_Category', 'ALT 24_Category',\n",
       "       'ALT 36_Category', 'ALT 48_Category', 'ALT after 24 w_Category'],\n",
       "      dtype='object')"
      ]
     },
     "execution_count": 23,
     "metadata": {},
     "output_type": "execute_result"
    }
   ],
   "source": [
    "data.columns"
   ]
  },
  {
   "cell_type": "code",
   "execution_count": 24,
   "id": "51ed4f70",
   "metadata": {},
   "outputs": [
    {
     "data": {
      "text/html": [
       "<div>\n",
       "<style scoped>\n",
       "    .dataframe tbody tr th:only-of-type {\n",
       "        vertical-align: middle;\n",
       "    }\n",
       "\n",
       "    .dataframe tbody tr th {\n",
       "        vertical-align: top;\n",
       "    }\n",
       "\n",
       "    .dataframe thead th {\n",
       "        text-align: right;\n",
       "    }\n",
       "</style>\n",
       "<table border=\"1\" class=\"dataframe\">\n",
       "  <thead>\n",
       "    <tr style=\"text-align: right;\">\n",
       "      <th></th>\n",
       "      <th>RNA Base</th>\n",
       "      <th>RNA Base_Category</th>\n",
       "    </tr>\n",
       "  </thead>\n",
       "  <tbody>\n",
       "    <tr>\n",
       "      <th>557</th>\n",
       "      <td>674758</td>\n",
       "      <td>1</td>\n",
       "    </tr>\n",
       "    <tr>\n",
       "      <th>363</th>\n",
       "      <td>1059627</td>\n",
       "      <td>1</td>\n",
       "    </tr>\n",
       "    <tr>\n",
       "      <th>130</th>\n",
       "      <td>325264</td>\n",
       "      <td>1</td>\n",
       "    </tr>\n",
       "  </tbody>\n",
       "</table>\n",
       "</div>"
      ],
      "text/plain": [
       "     RNA Base  RNA Base_Category\n",
       "557    674758                  1\n",
       "363   1059627                  1\n",
       "130    325264                  1"
      ]
     },
     "execution_count": 24,
     "metadata": {},
     "output_type": "execute_result"
    }
   ],
   "source": [
    "conditions = [\n",
    "        (data['RNA Base'] <= 5),\n",
    "        (data['RNA Base'] > 5),\n",
    "    ]\n",
    "choices = [0, 1]\n",
    "data['RNA Base_Category'] = np.select(conditions, choices, default=-1)\n",
    "data[['RNA Base', 'RNA Base_Category']].sample(3)"
   ]
  },
  {
   "cell_type": "code",
   "execution_count": 25,
   "id": "a6863b02",
   "metadata": {},
   "outputs": [
    {
     "data": {
      "text/html": [
       "<div>\n",
       "<style scoped>\n",
       "    .dataframe tbody tr th:only-of-type {\n",
       "        vertical-align: middle;\n",
       "    }\n",
       "\n",
       "    .dataframe tbody tr th {\n",
       "        vertical-align: top;\n",
       "    }\n",
       "\n",
       "    .dataframe thead th {\n",
       "        text-align: right;\n",
       "    }\n",
       "</style>\n",
       "<table border=\"1\" class=\"dataframe\">\n",
       "  <thead>\n",
       "    <tr style=\"text-align: right;\">\n",
       "      <th></th>\n",
       "      <th>RNA 4</th>\n",
       "      <th>RNA 4_Category</th>\n",
       "    </tr>\n",
       "  </thead>\n",
       "  <tbody>\n",
       "    <tr>\n",
       "      <th>437</th>\n",
       "      <td>265428</td>\n",
       "      <td>1</td>\n",
       "    </tr>\n",
       "    <tr>\n",
       "      <th>1187</th>\n",
       "      <td>1040139</td>\n",
       "      <td>1</td>\n",
       "    </tr>\n",
       "    <tr>\n",
       "      <th>109</th>\n",
       "      <td>867825</td>\n",
       "      <td>1</td>\n",
       "    </tr>\n",
       "  </tbody>\n",
       "</table>\n",
       "</div>"
      ],
      "text/plain": [
       "        RNA 4  RNA 4_Category\n",
       "437    265428               1\n",
       "1187  1040139               1\n",
       "109    867825               1"
      ]
     },
     "execution_count": 25,
     "metadata": {},
     "output_type": "execute_result"
    }
   ],
   "source": [
    "conditions = [\n",
    "        (data['RNA 4'] <= 5),\n",
    "        (data['RNA 4'] > 5),\n",
    "    ]\n",
    "choices = [0, 1]\n",
    "data['RNA 4_Category'] = np.select(conditions, choices, default=-1)\n",
    "data[['RNA 4', 'RNA 4_Category']].sample(3)"
   ]
  },
  {
   "cell_type": "code",
   "execution_count": 26,
   "id": "b27423b1",
   "metadata": {},
   "outputs": [
    {
     "data": {
      "text/html": [
       "<div>\n",
       "<style scoped>\n",
       "    .dataframe tbody tr th:only-of-type {\n",
       "        vertical-align: middle;\n",
       "    }\n",
       "\n",
       "    .dataframe tbody tr th {\n",
       "        vertical-align: top;\n",
       "    }\n",
       "\n",
       "    .dataframe thead th {\n",
       "        text-align: right;\n",
       "    }\n",
       "</style>\n",
       "<table border=\"1\" class=\"dataframe\">\n",
       "  <thead>\n",
       "    <tr style=\"text-align: right;\">\n",
       "      <th></th>\n",
       "      <th>RNA 12</th>\n",
       "      <th>RNA 12_Category</th>\n",
       "    </tr>\n",
       "  </thead>\n",
       "  <tbody>\n",
       "    <tr>\n",
       "      <th>255</th>\n",
       "      <td>529497</td>\n",
       "      <td>1</td>\n",
       "    </tr>\n",
       "    <tr>\n",
       "      <th>553</th>\n",
       "      <td>82074</td>\n",
       "      <td>1</td>\n",
       "    </tr>\n",
       "    <tr>\n",
       "      <th>1355</th>\n",
       "      <td>492737</td>\n",
       "      <td>1</td>\n",
       "    </tr>\n",
       "  </tbody>\n",
       "</table>\n",
       "</div>"
      ],
      "text/plain": [
       "      RNA 12  RNA 12_Category\n",
       "255   529497                1\n",
       "553    82074                1\n",
       "1355  492737                1"
      ]
     },
     "execution_count": 26,
     "metadata": {},
     "output_type": "execute_result"
    }
   ],
   "source": [
    "conditions = [\n",
    "        (data['RNA 12'] <= 5),\n",
    "        (data['RNA 12'] > 5),\n",
    "    ]\n",
    "choices = [0, 1]\n",
    "data['RNA 12_Category'] = np.select(conditions, choices, default=-1)\n",
    "data[['RNA 12', 'RNA 12_Category']].sample(3)"
   ]
  },
  {
   "cell_type": "code",
   "execution_count": 27,
   "id": "13d89da1",
   "metadata": {},
   "outputs": [
    {
     "data": {
      "text/html": [
       "<div>\n",
       "<style scoped>\n",
       "    .dataframe tbody tr th:only-of-type {\n",
       "        vertical-align: middle;\n",
       "    }\n",
       "\n",
       "    .dataframe tbody tr th {\n",
       "        vertical-align: top;\n",
       "    }\n",
       "\n",
       "    .dataframe thead th {\n",
       "        text-align: right;\n",
       "    }\n",
       "</style>\n",
       "<table border=\"1\" class=\"dataframe\">\n",
       "  <thead>\n",
       "    <tr style=\"text-align: right;\">\n",
       "      <th></th>\n",
       "      <th>RNA EOT</th>\n",
       "      <th>RNA EOT_Category</th>\n",
       "    </tr>\n",
       "  </thead>\n",
       "  <tbody>\n",
       "    <tr>\n",
       "      <th>1264</th>\n",
       "      <td>326349</td>\n",
       "      <td>1</td>\n",
       "    </tr>\n",
       "    <tr>\n",
       "      <th>489</th>\n",
       "      <td>66322</td>\n",
       "      <td>1</td>\n",
       "    </tr>\n",
       "    <tr>\n",
       "      <th>103</th>\n",
       "      <td>82400</td>\n",
       "      <td>1</td>\n",
       "    </tr>\n",
       "  </tbody>\n",
       "</table>\n",
       "</div>"
      ],
      "text/plain": [
       "      RNA EOT  RNA EOT_Category\n",
       "1264   326349                 1\n",
       "489     66322                 1\n",
       "103     82400                 1"
      ]
     },
     "execution_count": 27,
     "metadata": {},
     "output_type": "execute_result"
    }
   ],
   "source": [
    "conditions = [\n",
    "        (data['RNA EOT'] <= 5),\n",
    "        (data['RNA EOT'] > 5),\n",
    "    ]\n",
    "choices = [0, 1]\n",
    "data['RNA EOT_Category'] = np.select(conditions, choices, default=-1)\n",
    "data[['RNA EOT', 'RNA EOT_Category']].sample(3)"
   ]
  },
  {
   "cell_type": "code",
   "execution_count": 28,
   "id": "f8cbcae2",
   "metadata": {},
   "outputs": [
    {
     "data": {
      "text/html": [
       "<div>\n",
       "<style scoped>\n",
       "    .dataframe tbody tr th:only-of-type {\n",
       "        vertical-align: middle;\n",
       "    }\n",
       "\n",
       "    .dataframe tbody tr th {\n",
       "        vertical-align: top;\n",
       "    }\n",
       "\n",
       "    .dataframe thead th {\n",
       "        text-align: right;\n",
       "    }\n",
       "</style>\n",
       "<table border=\"1\" class=\"dataframe\">\n",
       "  <thead>\n",
       "    <tr style=\"text-align: right;\">\n",
       "      <th></th>\n",
       "      <th>RNA EF</th>\n",
       "      <th>RNA EF_Category</th>\n",
       "    </tr>\n",
       "  </thead>\n",
       "  <tbody>\n",
       "    <tr>\n",
       "      <th>504</th>\n",
       "      <td>122552</td>\n",
       "      <td>1</td>\n",
       "    </tr>\n",
       "    <tr>\n",
       "      <th>824</th>\n",
       "      <td>381513</td>\n",
       "      <td>1</td>\n",
       "    </tr>\n",
       "    <tr>\n",
       "      <th>943</th>\n",
       "      <td>92591</td>\n",
       "      <td>1</td>\n",
       "    </tr>\n",
       "  </tbody>\n",
       "</table>\n",
       "</div>"
      ],
      "text/plain": [
       "     RNA EF  RNA EF_Category\n",
       "504  122552                1\n",
       "824  381513                1\n",
       "943   92591                1"
      ]
     },
     "execution_count": 28,
     "metadata": {},
     "output_type": "execute_result"
    }
   ],
   "source": [
    "conditions = [\n",
    "        (data['RNA EF'] <= 5),\n",
    "        (data['RNA EF'] > 5),\n",
    "    ]\n",
    "choices = [0, 1]\n",
    "data['RNA EF_Category'] = np.select(conditions, choices, default=-1)\n",
    "data[['RNA EF', 'RNA EF_Category']].sample(3)"
   ]
  },
  {
   "cell_type": "markdown",
   "id": "313ced92",
   "metadata": {},
   "source": [
    "### save to csv"
   ]
  },
  {
   "cell_type": "code",
   "execution_count": 29,
   "id": "453fd6a3",
   "metadata": {},
   "outputs": [],
   "source": [
    "output_folder = './extracted_data'\n",
    "os.makedirs(output_folder, exist_ok=True)\n",
    "data.to_csv(os.path.join(output_folder, 'combine_numeric_category.csv'), index=False)"
   ]
  },
  {
   "cell_type": "code",
   "execution_count": 30,
   "id": "78873bd9",
   "metadata": {},
   "outputs": [
    {
     "data": {
      "text/html": [
       "<div>\n",
       "<style scoped>\n",
       "    .dataframe tbody tr th:only-of-type {\n",
       "        vertical-align: middle;\n",
       "    }\n",
       "\n",
       "    .dataframe tbody tr th {\n",
       "        vertical-align: top;\n",
       "    }\n",
       "\n",
       "    .dataframe thead th {\n",
       "        text-align: right;\n",
       "    }\n",
       "</style>\n",
       "<table border=\"1\" class=\"dataframe\">\n",
       "  <thead>\n",
       "    <tr style=\"text-align: right;\">\n",
       "      <th></th>\n",
       "      <th>Gender</th>\n",
       "      <th>Fever</th>\n",
       "      <th>Nausea/Vomting</th>\n",
       "      <th>Headache</th>\n",
       "      <th>Diarrhea</th>\n",
       "      <th>Fatigue &amp; generalized bone ache</th>\n",
       "      <th>Jaundice</th>\n",
       "      <th>Epigastric pain</th>\n",
       "      <th>Baseline histological Grading</th>\n",
       "      <th>Baselinehistological staging</th>\n",
       "      <th>...</th>\n",
       "      <th>ALT 12_Category</th>\n",
       "      <th>ALT 24_Category</th>\n",
       "      <th>ALT 36_Category</th>\n",
       "      <th>ALT 48_Category</th>\n",
       "      <th>ALT after 24 w_Category</th>\n",
       "      <th>RNA Base_Category</th>\n",
       "      <th>RNA 4_Category</th>\n",
       "      <th>RNA 12_Category</th>\n",
       "      <th>RNA EOT_Category</th>\n",
       "      <th>RNA EF_Category</th>\n",
       "    </tr>\n",
       "  </thead>\n",
       "  <tbody>\n",
       "    <tr>\n",
       "      <th>493</th>\n",
       "      <td>2</td>\n",
       "      <td>2</td>\n",
       "      <td>1</td>\n",
       "      <td>2</td>\n",
       "      <td>1</td>\n",
       "      <td>2</td>\n",
       "      <td>1</td>\n",
       "      <td>2</td>\n",
       "      <td>5</td>\n",
       "      <td>3</td>\n",
       "      <td>...</td>\n",
       "      <td>2</td>\n",
       "      <td>2</td>\n",
       "      <td>2</td>\n",
       "      <td>2</td>\n",
       "      <td>1</td>\n",
       "      <td>1</td>\n",
       "      <td>1</td>\n",
       "      <td>1</td>\n",
       "      <td>1</td>\n",
       "      <td>1</td>\n",
       "    </tr>\n",
       "    <tr>\n",
       "      <th>712</th>\n",
       "      <td>2</td>\n",
       "      <td>1</td>\n",
       "      <td>2</td>\n",
       "      <td>1</td>\n",
       "      <td>2</td>\n",
       "      <td>1</td>\n",
       "      <td>2</td>\n",
       "      <td>2</td>\n",
       "      <td>16</td>\n",
       "      <td>1</td>\n",
       "      <td>...</td>\n",
       "      <td>2</td>\n",
       "      <td>2</td>\n",
       "      <td>2</td>\n",
       "      <td>2</td>\n",
       "      <td>1</td>\n",
       "      <td>1</td>\n",
       "      <td>1</td>\n",
       "      <td>0</td>\n",
       "      <td>0</td>\n",
       "      <td>0</td>\n",
       "    </tr>\n",
       "    <tr>\n",
       "      <th>795</th>\n",
       "      <td>2</td>\n",
       "      <td>1</td>\n",
       "      <td>1</td>\n",
       "      <td>2</td>\n",
       "      <td>2</td>\n",
       "      <td>1</td>\n",
       "      <td>1</td>\n",
       "      <td>1</td>\n",
       "      <td>11</td>\n",
       "      <td>2</td>\n",
       "      <td>...</td>\n",
       "      <td>2</td>\n",
       "      <td>2</td>\n",
       "      <td>2</td>\n",
       "      <td>2</td>\n",
       "      <td>1</td>\n",
       "      <td>1</td>\n",
       "      <td>1</td>\n",
       "      <td>0</td>\n",
       "      <td>0</td>\n",
       "      <td>0</td>\n",
       "    </tr>\n",
       "    <tr>\n",
       "      <th>113</th>\n",
       "      <td>2</td>\n",
       "      <td>1</td>\n",
       "      <td>2</td>\n",
       "      <td>1</td>\n",
       "      <td>1</td>\n",
       "      <td>1</td>\n",
       "      <td>2</td>\n",
       "      <td>2</td>\n",
       "      <td>11</td>\n",
       "      <td>1</td>\n",
       "      <td>...</td>\n",
       "      <td>2</td>\n",
       "      <td>2</td>\n",
       "      <td>2</td>\n",
       "      <td>2</td>\n",
       "      <td>1</td>\n",
       "      <td>1</td>\n",
       "      <td>1</td>\n",
       "      <td>1</td>\n",
       "      <td>1</td>\n",
       "      <td>1</td>\n",
       "    </tr>\n",
       "    <tr>\n",
       "      <th>973</th>\n",
       "      <td>2</td>\n",
       "      <td>2</td>\n",
       "      <td>1</td>\n",
       "      <td>1</td>\n",
       "      <td>2</td>\n",
       "      <td>2</td>\n",
       "      <td>2</td>\n",
       "      <td>1</td>\n",
       "      <td>15</td>\n",
       "      <td>1</td>\n",
       "      <td>...</td>\n",
       "      <td>2</td>\n",
       "      <td>2</td>\n",
       "      <td>2</td>\n",
       "      <td>2</td>\n",
       "      <td>1</td>\n",
       "      <td>1</td>\n",
       "      <td>1</td>\n",
       "      <td>1</td>\n",
       "      <td>1</td>\n",
       "      <td>1</td>\n",
       "    </tr>\n",
       "  </tbody>\n",
       "</table>\n",
       "<p>5 rows × 29 columns</p>\n",
       "</div>"
      ],
      "text/plain": [
       "     Gender  Fever  Nausea/Vomting  Headache  Diarrhea  \\\n",
       "493       2      2               1         2         1   \n",
       "712       2      1               2         1         2   \n",
       "795       2      1               1         2         2   \n",
       "113       2      1               2         1         1   \n",
       "973       2      2               1         1         2   \n",
       "\n",
       "     Fatigue & generalized bone ache  Jaundice  Epigastric pain  \\\n",
       "493                                2         1                2   \n",
       "712                                1         2                2   \n",
       "795                                1         1                1   \n",
       "113                                1         2                2   \n",
       "973                                2         2                1   \n",
       "\n",
       "     Baseline histological Grading  Baselinehistological staging  ...  \\\n",
       "493                              5                             3  ...   \n",
       "712                             16                             1  ...   \n",
       "795                             11                             2  ...   \n",
       "113                             11                             1  ...   \n",
       "973                             15                             1  ...   \n",
       "\n",
       "     ALT 12_Category  ALT 24_Category  ALT 36_Category  ALT 48_Category  \\\n",
       "493                2                2                2                2   \n",
       "712                2                2                2                2   \n",
       "795                2                2                2                2   \n",
       "113                2                2                2                2   \n",
       "973                2                2                2                2   \n",
       "\n",
       "     ALT after 24 w_Category  RNA Base_Category  RNA 4_Category  \\\n",
       "493                        1                  1               1   \n",
       "712                        1                  1               1   \n",
       "795                        1                  1               1   \n",
       "113                        1                  1               1   \n",
       "973                        1                  1               1   \n",
       "\n",
       "     RNA 12_Category  RNA EOT_Category  RNA EF_Category  \n",
       "493                1                 1                1  \n",
       "712                0                 0                0  \n",
       "795                0                 0                0  \n",
       "113                1                 1                1  \n",
       "973                1                 1                1  \n",
       "\n",
       "[5 rows x 29 columns]"
      ]
     },
     "execution_count": 30,
     "metadata": {},
     "output_type": "execute_result"
    }
   ],
   "source": [
    "category_data = data.copy()\n",
    "category_data.drop([\n",
    "    'Age', 'BMI', 'WBC', 'RBC', 'HGB', 'Plat','AST 1', 'ALT 1',\n",
    "    'ALT 4', 'ALT 12', 'ALT 24', 'ALT 36', 'ALT 48', 'ALT after 24 w',\n",
    "    'RNA Base', 'RNA 4', 'RNA 12', 'RNA EOT', 'RNA EF'\n",
    "  ], axis=1, inplace=True)\n",
    "output_folder = './extracted_data'\n",
    "os.makedirs(output_folder, exist_ok=True)\n",
    "category_data.to_csv(os.path.join(output_folder, 'category_only.csv'), index=False)\n",
    "category_data.sample(5)"
   ]
  },
  {
   "cell_type": "markdown",
   "id": "063e1532",
   "metadata": {},
   "source": [
    "## Modeling"
   ]
  },
  {
   "cell_type": "code",
   "execution_count": 31,
   "id": "9923a2da",
   "metadata": {},
   "outputs": [],
   "source": [
    "from sklearn.model_selection import train_test_split\n",
    "from sklearn.preprocessing import StandardScaler, OneHotEncoder, RobustScaler\n",
    "from sklearn.compose import ColumnTransformer\n",
    "from sklearn.pipeline import Pipeline\n",
    "from sklearn.ensemble import RandomForestClassifier, BaggingClassifier, ExtraTreesClassifier\n",
    "from sklearn.neural_network import MLPClassifier\n",
    "from sklearn.metrics import classification_report\n",
    "from lightgbm import LGBMClassifier\n",
    "import pandas as pd\n",
    "import numpy as np"
   ]
  },
  {
   "cell_type": "markdown",
   "id": "60c76766",
   "metadata": {},
   "source": [
    "### Split train/test"
   ]
  },
  {
   "cell_type": "code",
   "execution_count": 32,
   "id": "916ccfae",
   "metadata": {},
   "outputs": [
    {
     "name": "stdout",
     "output_type": "stream",
     "text": [
      "\n",
      "Splitting data into training and testing sets (80/20)...\n",
      "Training features shape: (1108, 27)\n",
      "Testing features shape: (277, 27)\n"
     ]
    }
   ],
   "source": [
    "data = pd.read_csv('extracted_data/category_only.csv')\n",
    "# data = pd.read_csv('extracted_data/combine_numeric_category.csv')\n",
    "target_column = 'Baselinehistological staging'\n",
    "y = data[target_column]\n",
    "X = data.drop([target_column, 'Baseline histological Grading'], axis=1)\n",
    "\n",
    "print(\"\\nSplitting data into training and testing sets (80/20)...\")\n",
    "X_train, X_test, y_train, y_test = train_test_split(\n",
    "    X, y, test_size=0.2, random_state=42, stratify=y\n",
    ")\n",
    "print(f\"Training features shape: {X_train.shape}\")\n",
    "print(f\"Testing features shape: {X_test.shape}\")"
   ]
  },
  {
   "cell_type": "markdown",
   "id": "a9586c98",
   "metadata": {},
   "source": [
    "### Model training"
   ]
  },
  {
   "cell_type": "code",
   "execution_count": 33,
   "id": "11e55d60",
   "metadata": {},
   "outputs": [],
   "source": [
    "from sklearn import svm\n",
    "from sklearn.linear_model import SGDClassifier\n",
    "from sklearn.ensemble import HistGradientBoostingClassifier"
   ]
  },
  {
   "cell_type": "code",
   "execution_count": null,
   "id": "e36e40a2",
   "metadata": {},
   "outputs": [
    {
     "name": "stdout",
     "output_type": "stream",
     "text": [
      "\n",
      "Classification Report\n",
      "              precision    recall  f1-score   support\n",
      "\n",
      "Stage 1 (F1)       0.20      0.22      0.21        67\n",
      "Stage 2 (F2)       0.19      0.19      0.19        67\n",
      "Stage 3 (F3)       0.25      0.23      0.24        71\n",
      "Stage 4 (F4)       0.28      0.28      0.28        72\n",
      "\n",
      "    accuracy                           0.23       277\n",
      "   macro avg       0.23      0.23      0.23       277\n",
      "weighted avg       0.23      0.23      0.23       277\n",
      "\n"
     ]
    }
   ],
   "source": [
    "# model = Pipeline(steps=[\n",
    "#     ('preprocessor', OneHotEncoder(handle_unknown='ignore', sparse_output=False)),\n",
    "#     ('classifier', RandomForestClassifier(\n",
    "#         random_state=42, \n",
    "#         n_estimators=100,\n",
    "#         class_weight='balanced'\n",
    "#     ))\n",
    "# ])\n",
    "# model = MLPClassifier(solver='adam', alpha=4e-5, hidden_layer_sizes=(100, 50, 40, 10, 8), random_state=42, max_iter=1000)\n",
    "# model = LGBMClassifier()\n",
    "model = RandomForestClassifier(random_state=42, n_estimators=100, class_weight='balanced')\n",
    "model.fit(X_train, y_train)\n",
    "y_pred = model.predict(X_test)\n",
    "\n",
    "print(\"\\nClassification Report\")\n",
    "target_names = ['Stage 1 (F1)', 'Stage 2 (F2)', 'Stage 3 (F3)', 'Stage 4 (F4)']\n",
    "unique_labels = np.unique(np.concatenate((y_test, y_pred)))\n",
    "filtered_target_names = [target_names[i-1] for i in sorted(unique_labels)]\n",
    "\n",
    "report = classification_report(\n",
    "    y_test, \n",
    "    y_pred, \n",
    "    target_names=filtered_target_names, \n",
    "    labels=sorted(unique_labels)\n",
    ")\n",
    "print(report)"
   ]
  },
  {
   "cell_type": "code",
   "execution_count": 40,
   "id": "e9cc668c",
   "metadata": {},
   "outputs": [
    {
     "data": {
      "text/plain": [
       "array([0.02442435, 0.05365017, 0.05389486, 0.06397442, 0.05633701,\n",
       "       0.06201282, 0.05268357, 0.04908276, 0.16686403, 0.10426706,\n",
       "       0.06510533, 0.00836131, 0.08068094, 0.01758447, 0.00560049,\n",
       "       0.00600016, 0.00531418, 0.0066054 , 0.00616559, 0.0083633 ,\n",
       "       0.00543521, 0.04746317, 0.        , 0.00034963, 0.01737303,\n",
       "       0.01603069, 0.01637604])"
      ]
     },
     "execution_count": 40,
     "metadata": {},
     "output_type": "execute_result"
    }
   ],
   "source": [
    "model.feature_importances_"
   ]
  },
  {
   "cell_type": "code",
   "execution_count": 39,
   "id": "4c1c79d1",
   "metadata": {},
   "outputs": [
    {
     "data": {
      "image/png": "[encoded data removed]",
      "text/plain": [
       "<Figure size 1000x800 with 1 Axes>"
      ]
     },
     "metadata": {},
     "output_type": "display_data"
    }
   ],
   "source": [
    "import matplotlib.pyplot as plt\n",
    "importances = model.feature_importances_\n",
    "forest_importances = pd.Series(importances, index=X.columns)\n",
    "forest_importances = forest_importances.sort_values(ascending=True)\n",
    "fig, ax = plt.subplots(figsize=(10, 8))\n",
    "ax.barh(forest_importances.index, forest_importances.values)\n",
    "ax.set_title(\"Feature Importances (Random Forest)\")\n",
    "ax.set_xlabel(\"Mean Decrease in Impurity (Gini Importance)\")\n",
    "ax.set_ylabel(\"Features\")\n",
    "\n",
    "# ปรับ layout ให้สวยงาม\n",
    "fig.tight_layout()"
   ]
  },
  {
   "cell_type": "code",
   "execution_count": 35,
   "id": "ac126112",
   "metadata": {},
   "outputs": [
    {
     "data": {
      "image/png": "[encoded data removed]",
      "text/plain": [
       "<Figure size 1000x800 with 2 Axes>"
      ]
     },
     "metadata": {},
     "output_type": "display_data"
    }
   ],
   "source": [
    "import matplotlib.pyplot as plt\n",
    "from sklearn.metrics import confusion_matrix\n",
    "\n",
    "cm = confusion_matrix(y_test, y_pred, labels=sorted(unique_labels))\n",
    "fig, ax = plt.subplots(figsize=(10, 8))\n",
    "im = ax.imshow(cm, interpolation='nearest', cmap=plt.cm.Blues)\n",
    "fig.colorbar(im, ax=ax)\n",
    "ax.set(\n",
    "    xticks=np.arange(cm.shape[1]),\n",
    "    yticks=np.arange(cm.shape[0]),\n",
    "    xticklabels=filtered_target_names,\n",
    "    yticklabels=filtered_target_names,\n",
    "    title='Confusion Matrix',\n",
    "    ylabel='True Label (Actual Stage)',\n",
    "    xlabel='Predicted Label (Predicted Stage)'\n",
    ")\n",
    "plt.setp(ax.get_xticklabels(), rotation=45, ha=\"right\", rotation_mode=\"anchor\")\n",
    "thresh = cm.max() / 2.\n",
    "for i in range(cm.shape[0]):\n",
    "    for j in range(cm.shape[1]):\n",
    "        ax.text(\n",
    "            j, i, format(cm[i, j], 'd'),\n",
    "            ha=\"center\", va=\"center\",\n",
    "            color=\"white\" if cm[i, j] > thresh else \"black\"\n",
    "        )\n",
    "fig.tight_layout()"
   ]
  },
  {
   "cell_type": "code",
   "execution_count": null,
   "id": "a40f9429",
   "metadata": {},
   "outputs": [],
   "source": []
  }
 ],
 "metadata": {
  "kernelspec": {
   "display_name": "ml_production",
   "language": "python",
   "name": "python3"
  },
  "language_info": {
   "codemirror_mode": {
    "name": "ipython",
    "version": 3
   },
   "file_extension": ".py",
   "mimetype": "text/x-python",
   "name": "python",
   "nbconvert_exporter": "python",
   "pygments_lexer": "ipython3",
   "version": "3.10.18"
  }
 },
 "nbformat": 4,
 "nbformat_minor": 5
}
